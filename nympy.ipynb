{
  "nbformat": 4,
  "nbformat_minor": 0,
  "metadata": {
    "colab": {
      "name": "Untitled13.ipynb",
      "provenance": [],
      "collapsed_sections": [],
      "authorship_tag": "ABX9TyOXVcfNKEzqPW1cCAA2wjaW",
      "include_colab_link": true
    },
    "kernelspec": {
      "name": "python3",
      "display_name": "Python 3"
    },
    "language_info": {
      "name": "python"
    }
  },
  "cells": [
    {
      "cell_type": "markdown",
      "metadata": {
        "id": "view-in-github",
        "colab_type": "text"
      },
      "source": [
        "<a href=\"https://colab.research.google.com/github/hatimdeve/HSLA_Image_color_space/blob/main/nympy.ipynb\" target=\"_parent\"><img src=\"https://colab.research.google.com/assets/colab-badge.svg\" alt=\"Open In Colab\"/></a>"
      ]
    },
    {
      "cell_type": "code",
      "execution_count": 1,
      "metadata": {
        "colab": {
          "base_uri": "https://localhost:8080/"
        },
        "id": "jVbIvWoJpLlF",
        "outputId": "0d31a445-d7a8-403c-b00e-33a49cc978cb"
      },
      "outputs": [
        {
          "output_type": "execute_result",
          "data": {
            "text/plain": [
              "dtype('int64')"
            ]
          },
          "metadata": {},
          "execution_count": 1
        }
      ],
      "source": [
        "import numpy as np\n",
        "l=np.array([2,4,5])\n",
        "e=np.array([2,4,5],dtype='f')\n",
        "l.dtype"
      ]
    },
    {
      "cell_type": "code",
      "source": [
        "e.dtype"
      ],
      "metadata": {
        "colab": {
          "base_uri": "https://localhost:8080/"
        },
        "id": "NeQmg-BduF_w",
        "outputId": "e0dd2f3c-c544-46e0-cdbd-d920a75cb145"
      },
      "execution_count": null,
      "outputs": [
        {
          "output_type": "execute_result",
          "data": {
            "text/plain": [
              "dtype('float32')"
            ]
          },
          "metadata": {},
          "execution_count": 2
        }
      ]
    },
    {
      "cell_type": "code",
      "source": [
        "l=np.array([[[[2,4,5],[2,4,5],[2,4,5]],[[2,4,5],[2,4,5],[2,4,6]]],[[[2,4,5],[2,4,5],[2,4,5]],[[2,4,5],[2,4,5],[2,4,5]]]])\n",
        "l.ndim"
      ],
      "metadata": {
        "colab": {
          "base_uri": "https://localhost:8080/"
        },
        "id": "kRde4BbT1O5k",
        "outputId": "2d810678-5467-4b5a-c3e5-23ef63caeef8"
      },
      "execution_count": null,
      "outputs": [
        {
          "output_type": "execute_result",
          "data": {
            "text/plain": [
              "4"
            ]
          },
          "metadata": {},
          "execution_count": 3
        }
      ]
    },
    {
      "cell_type": "code",
      "source": [
        "l[0,1,2,2]"
      ],
      "metadata": {
        "colab": {
          "base_uri": "https://localhost:8080/"
        },
        "id": "ZKreD5fh1xPH",
        "outputId": "a68ffbe0-72f8-4c0d-b9d6-0272f301f075"
      },
      "execution_count": null,
      "outputs": [
        {
          "output_type": "execute_result",
          "data": {
            "text/plain": [
              "6"
            ]
          },
          "metadata": {},
          "execution_count": 4
        }
      ]
    },
    {
      "cell_type": "code",
      "source": [
        "l.shape\n"
      ],
      "metadata": {
        "colab": {
          "base_uri": "https://localhost:8080/"
        },
        "id": "wJ1oLreItjrf",
        "outputId": "cde87132-8819-481e-d844-dd361ed1f92f"
      },
      "execution_count": null,
      "outputs": [
        {
          "output_type": "execute_result",
          "data": {
            "text/plain": [
              "(2, 2, 3, 3)"
            ]
          },
          "metadata": {},
          "execution_count": 7
        }
      ]
    },
    {
      "cell_type": "code",
      "source": [
        "b=np.array([3])\n",
        "b.shape\n"
      ],
      "metadata": {
        "colab": {
          "base_uri": "https://localhost:8080/"
        },
        "id": "SZ3vc66_uajk",
        "outputId": "b4f46fe4-4e9f-4f13-b856-a7b5b388a6a5"
      },
      "execution_count": null,
      "outputs": [
        {
          "output_type": "execute_result",
          "data": {
            "text/plain": [
              "(1,)"
            ]
          },
          "metadata": {},
          "execution_count": 8
        }
      ]
    },
    {
      "cell_type": "code",
      "source": [
        "c=np.array(3)\n",
        "c.shape"
      ],
      "metadata": {
        "colab": {
          "base_uri": "https://localhost:8080/"
        },
        "id": "ho6rPPduukZM",
        "outputId": "4b59dd89-189a-40fa-e2a9-e6c1a43ae687"
      },
      "execution_count": null,
      "outputs": [
        {
          "output_type": "execute_result",
          "data": {
            "text/plain": [
              "()"
            ]
          },
          "metadata": {},
          "execution_count": 9
        }
      ]
    },
    {
      "cell_type": "code",
      "source": [
        "l.size"
      ],
      "metadata": {
        "colab": {
          "base_uri": "https://localhost:8080/"
        },
        "id": "WP7wpo6Du0Hw",
        "outputId": "d1b84e5d-c30c-4a19-fad0-b8f3930164d9"
      },
      "execution_count": null,
      "outputs": [
        {
          "output_type": "execute_result",
          "data": {
            "text/plain": [
              "36"
            ]
          },
          "metadata": {},
          "execution_count": 11
        }
      ]
    },
    {
      "cell_type": "code",
      "source": [
        "z=np.arange(20,100,3)\n",
        "z"
      ],
      "metadata": {
        "colab": {
          "base_uri": "https://localhost:8080/"
        },
        "id": "CrY9HjP_yDFJ",
        "outputId": "8ecbdbd2-9f8b-49be-f5e7-80f5b404083b"
      },
      "execution_count": null,
      "outputs": [
        {
          "output_type": "execute_result",
          "data": {
            "text/plain": [
              "array([20, 23, 26, 29, 32, 35, 38, 41, 44, 47, 50, 53, 56, 59, 62, 65, 68,\n",
              "       71, 74, 77, 80, 83, 86, 89, 92, 95, 98])"
            ]
          },
          "metadata": {},
          "execution_count": 12
        }
      ]
    },
    {
      "cell_type": "code",
      "source": [
        "z=np.random.permutation(np.arange(10))\n",
        "z"
      ],
      "metadata": {
        "colab": {
          "base_uri": "https://localhost:8080/"
        },
        "id": "x27hJGX3yKco",
        "outputId": "855ce4e5-4497-4d74-afc1-3df278e94a31"
      },
      "execution_count": null,
      "outputs": [
        {
          "output_type": "execute_result",
          "data": {
            "text/plain": [
              "array([9, 6, 0, 7, 8, 1, 4, 2, 5, 3])"
            ]
          },
          "metadata": {},
          "execution_count": 13
        }
      ]
    },
    {
      "cell_type": "code",
      "source": [
        "v=np.random.randint(20,100)\n",
        "v\n",
        "type(v)"
      ],
      "metadata": {
        "colab": {
          "base_uri": "https://localhost:8080/"
        },
        "id": "2vPdKnlayV5B",
        "outputId": "489895be-37ed-4380-d16e-01ca35061707"
      },
      "execution_count": null,
      "outputs": [
        {
          "output_type": "execute_result",
          "data": {
            "text/plain": [
              "int"
            ]
          },
          "metadata": {},
          "execution_count": 17
        }
      ]
    },
    {
      "cell_type": "code",
      "source": [
        "t=np.random.rand(100)\n"
      ],
      "metadata": {
        "id": "alrRgXlD3yMV"
      },
      "execution_count": null,
      "outputs": []
    },
    {
      "cell_type": "code",
      "source": [
        "r=np.random.randn(1000)\n"
      ],
      "metadata": {
        "id": "9F9S26Ja39A1"
      },
      "execution_count": null,
      "outputs": []
    },
    {
      "cell_type": "code",
      "source": [
        "import matplotlib.pyplot as plt\n",
        "plt.hist(t ,bins=100)"
      ],
      "metadata": {
        "colab": {
          "base_uri": "https://localhost:8080/",
          "height": 873
        },
        "id": "1wAlBCkN4QNE",
        "outputId": "d9dd3b20-eea5-4811-c88d-9aad3a563636"
      },
      "execution_count": null,
      "outputs": [
        {
          "output_type": "execute_result",
          "data": {
            "text/plain": [
              "(array([ 9., 11.,  9., 14.,  6.,  9.,  6., 15.,  9., 13.,  5., 10.,  8.,\n",
              "        12., 10., 10., 10., 12., 13., 10.,  5., 22.,  6., 10.,  9.,  9.,\n",
              "         8., 13., 17.,  6.,  9.,  9., 12.,  8.,  6., 11.,  7., 11., 10.,\n",
              "        13., 11.,  5., 12.,  8.,  6.,  8., 13.,  9.,  8.,  6., 10.,  5.,\n",
              "        11., 11., 16.,  6.,  4.,  5.,  7., 10.,  7.,  7., 11., 11., 16.,\n",
              "         9., 10.,  9., 18.,  6.,  6., 11.,  8.,  8.,  7., 12., 12., 11.,\n",
              "        11., 11., 17., 11., 10.,  8., 10., 13.,  7., 12.,  9., 14., 14.,\n",
              "        16., 12.,  7.,  6., 10., 15., 13., 10., 12.]),\n",
              " array([3.43438561e-04, 1.03334495e-02, 2.03234604e-02, 3.03134713e-02,\n",
              "        4.03034822e-02, 5.02934932e-02, 6.02835041e-02, 7.02735150e-02,\n",
              "        8.02635259e-02, 9.02535368e-02, 1.00243548e-01, 1.10233559e-01,\n",
              "        1.20223570e-01, 1.30213581e-01, 1.40203591e-01, 1.50193602e-01,\n",
              "        1.60183613e-01, 1.70173624e-01, 1.80163635e-01, 1.90153646e-01,\n",
              "        2.00143657e-01, 2.10133668e-01, 2.20123679e-01, 2.30113690e-01,\n",
              "        2.40103701e-01, 2.50093712e-01, 2.60083722e-01, 2.70073733e-01,\n",
              "        2.80063744e-01, 2.90053755e-01, 3.00043766e-01, 3.10033777e-01,\n",
              "        3.20023788e-01, 3.30013799e-01, 3.40003810e-01, 3.49993821e-01,\n",
              "        3.59983832e-01, 3.69973843e-01, 3.79963853e-01, 3.89953864e-01,\n",
              "        3.99943875e-01, 4.09933886e-01, 4.19923897e-01, 4.29913908e-01,\n",
              "        4.39903919e-01, 4.49893930e-01, 4.59883941e-01, 4.69873952e-01,\n",
              "        4.79863963e-01, 4.89853974e-01, 4.99843985e-01, 5.09833995e-01,\n",
              "        5.19824006e-01, 5.29814017e-01, 5.39804028e-01, 5.49794039e-01,\n",
              "        5.59784050e-01, 5.69774061e-01, 5.79764072e-01, 5.89754083e-01,\n",
              "        5.99744094e-01, 6.09734105e-01, 6.19724116e-01, 6.29714126e-01,\n",
              "        6.39704137e-01, 6.49694148e-01, 6.59684159e-01, 6.69674170e-01,\n",
              "        6.79664181e-01, 6.89654192e-01, 6.99644203e-01, 7.09634214e-01,\n",
              "        7.19624225e-01, 7.29614236e-01, 7.39604247e-01, 7.49594257e-01,\n",
              "        7.59584268e-01, 7.69574279e-01, 7.79564290e-01, 7.89554301e-01,\n",
              "        7.99544312e-01, 8.09534323e-01, 8.19524334e-01, 8.29514345e-01,\n",
              "        8.39504356e-01, 8.49494367e-01, 8.59484378e-01, 8.69474389e-01,\n",
              "        8.79464399e-01, 8.89454410e-01, 8.99444421e-01, 9.09434432e-01,\n",
              "        9.19424443e-01, 9.29414454e-01, 9.39404465e-01, 9.49394476e-01,\n",
              "        9.59384487e-01, 9.69374498e-01, 9.79364509e-01, 9.89354520e-01,\n",
              "        9.99344530e-01]),\n",
              " <a list of 100 Patch objects>)"
            ]
          },
          "metadata": {},
          "execution_count": 30
        },
        {
          "output_type": "display_data",
          "data": {
            "text/plain": [
              "<Figure size 432x288 with 1 Axes>"
            ],
            "image/png": "[encoded data removed]"
          },
          "metadata": {
            "needs_background": "light"
          }
        }
      ]
    },
    {
      "cell_type": "code",
      "source": [
        "plt.hist(r,bins =100)"
      ],
      "metadata": {
        "colab": {
          "base_uri": "https://localhost:8080/",
          "height": 786
        },
        "id": "M2D9aneV4Zvd",
        "outputId": "18a58af5-d904-42b9-a1a3-b6064865a0c2"
      },
      "execution_count": null,
      "outputs": [
        {
          "output_type": "execute_result",
          "data": {
            "text/plain": [
              "(array([ 2.,  1.,  2.,  2.,  2.,  5.,  2.,  1.,  4.,  1.,  2.,  2.,  3.,\n",
              "         4.,  6.,  3.,  7.,  6.,  9.,  5.,  5.,  7.,  8.,  7., 12., 12.,\n",
              "        17., 12., 17., 10., 12., 13., 11., 11., 18., 22., 18., 22., 20.,\n",
              "        28., 19., 16., 27., 20., 27., 16., 29., 25., 17., 21., 18., 19.,\n",
              "        18., 30., 16., 26., 18., 15., 26.,  9., 21., 26.,  7.,  7., 10.,\n",
              "        15., 10.,  8., 18., 11.,  8.,  6., 10.,  9.,  5.,  7.,  9.,  5.,\n",
              "         5.,  0.,  2.,  6.,  5.,  4.,  3.,  1.,  3.,  1.,  3.,  0.,  0.,\n",
              "         3.,  3.,  2.,  0.,  1.,  1.,  1.,  0.,  1.]),\n",
              " array([-2.65326815, -2.59727946, -2.54129077, -2.48530207, -2.42931338,\n",
              "        -2.37332469, -2.317336  , -2.2613473 , -2.20535861, -2.14936992,\n",
              "        -2.09338123, -2.03739254, -1.98140384, -1.92541515, -1.86942646,\n",
              "        -1.81343777, -1.75744907, -1.70146038, -1.64547169, -1.589483  ,\n",
              "        -1.53349431, -1.47750561, -1.42151692, -1.36552823, -1.30953954,\n",
              "        -1.25355084, -1.19756215, -1.14157346, -1.08558477, -1.02959608,\n",
              "        -0.97360738, -0.91761869, -0.86163   , -0.80564131, -0.74965261,\n",
              "        -0.69366392, -0.63767523, -0.58168654, -0.52569785, -0.46970915,\n",
              "        -0.41372046, -0.35773177, -0.30174308, -0.24575438, -0.18976569,\n",
              "        -0.133777  , -0.07778831, -0.02179962,  0.03418908,  0.09017777,\n",
              "         0.14616646,  0.20215515,  0.25814385,  0.31413254,  0.37012123,\n",
              "         0.42610992,  0.48209861,  0.53808731,  0.594076  ,  0.65006469,\n",
              "         0.70605338,  0.76204208,  0.81803077,  0.87401946,  0.93000815,\n",
              "         0.98599684,  1.04198554,  1.09797423,  1.15396292,  1.20995161,\n",
              "         1.26594031,  1.321929  ,  1.37791769,  1.43390638,  1.48989508,\n",
              "         1.54588377,  1.60187246,  1.65786115,  1.71384984,  1.76983854,\n",
              "         1.82582723,  1.88181592,  1.93780461,  1.99379331,  2.049782  ,\n",
              "         2.10577069,  2.16175938,  2.21774807,  2.27373677,  2.32972546,\n",
              "         2.38571415,  2.44170284,  2.49769154,  2.55368023,  2.60966892,\n",
              "         2.66565761,  2.7216463 ,  2.777635  ,  2.83362369,  2.88961238,\n",
              "         2.94560107]),\n",
              " <a list of 100 Patch objects>)"
            ]
          },
          "metadata": {},
          "execution_count": 31
        },
        {
          "output_type": "display_data",
          "data": {
            "text/plain": [
              "<Figure size 432x288 with 1 Axes>"
            ],
            "image/png": "[encoded data removed]"
          },
          "metadata": {
            "needs_background": "light"
          }
        }
      ]
    },
    {
      "cell_type": "code",
      "source": [
        "#in numpy slicing is not creating a copy "
      ],
      "metadata": {
        "id": "bdpe-W4q5qV7"
      },
      "execution_count": null,
      "outputs": []
    },
    {
      "cell_type": "code",
      "source": [
        "h=np.arange(100)\n",
        "h"
      ],
      "metadata": {
        "colab": {
          "base_uri": "https://localhost:8080/"
        },
        "id": "Onxj-eku9XHA",
        "outputId": "be948180-250d-444e-c8e0-79afc428fc1a"
      },
      "execution_count": null,
      "outputs": [
        {
          "output_type": "execute_result",
          "data": {
            "text/plain": [
              "array([ 0,  1,  2,  3,  4,  5,  6,  7,  8,  9, 10, 11, 12, 13, 14, 15, 16,\n",
              "       17, 18, 19, 20, 21, 22, 23, 24, 25, 26, 27, 28, 29, 30, 31, 32, 33,\n",
              "       34, 35, 36, 37, 38, 39, 40, 41, 42, 43, 44, 45, 46, 47, 48, 49, 50,\n",
              "       51, 52, 53, 54, 55, 56, 57, 58, 59, 60, 61, 62, 63, 64, 65, 66, 67,\n",
              "       68, 69, 70, 71, 72, 73, 74, 75, 76, 77, 78, 79, 80, 81, 82, 83, 84,\n",
              "       85, 86, 87, 88, 89, 90, 91, 92, 93, 94, 95, 96, 97, 98, 99])"
            ]
          },
          "metadata": {},
          "execution_count": 34
        }
      ]
    },
    {
      "cell_type": "code",
      "source": [
        "idx = np.argwhere(h == 66)[0][0]\n",
        "idx"
      ],
      "metadata": {
        "colab": {
          "base_uri": "https://localhost:8080/"
        },
        "id": "YYsAh-n18-aT",
        "outputId": "fecaf80f-dbe4-41bf-e35b-6616724ac115"
      },
      "execution_count": null,
      "outputs": [
        {
          "output_type": "execute_result",
          "data": {
            "text/plain": [
              "66"
            ]
          },
          "metadata": {},
          "execution_count": 37
        }
      ]
    },
    {
      "cell_type": "code",
      "source": [
        "A=np.round(10*np.random.rand(5,4))\n",
        "A"
      ],
      "metadata": {
        "colab": {
          "base_uri": "https://localhost:8080/"
        },
        "id": "uyR4KRh99zG3",
        "outputId": "ac9066d9-9371-48a9-b3cc-e2c1ea460291"
      },
      "execution_count": null,
      "outputs": [
        {
          "output_type": "execute_result",
          "data": {
            "text/plain": [
              "array([[ 1.,  4.,  7.,  6.],\n",
              "       [ 4.,  5.,  1.,  7.],\n",
              "       [ 1.,  5.,  6.,  4.],\n",
              "       [10.,  7.,  8.,  1.],\n",
              "       [ 2.,  9.,  3.,  4.]])"
            ]
          },
          "metadata": {},
          "execution_count": 38
        }
      ]
    },
    {
      "cell_type": "code",
      "source": [
        "A[1,2]"
      ],
      "metadata": {
        "colab": {
          "base_uri": "https://localhost:8080/"
        },
        "id": "x2QM6oFL-BpY",
        "outputId": "c6e28414-08f9-4908-bc37-e702caca34a5"
      },
      "execution_count": null,
      "outputs": [
        {
          "output_type": "execute_result",
          "data": {
            "text/plain": [
              "1.0"
            ]
          },
          "metadata": {},
          "execution_count": 39
        }
      ]
    },
    {
      "cell_type": "code",
      "source": [
        "A[1,:]"
      ],
      "metadata": {
        "colab": {
          "base_uri": "https://localhost:8080/"
        },
        "id": "XBzbhKMl-J4G",
        "outputId": "1a6a12f8-5f45-481d-99bb-b1281f0f2654"
      },
      "execution_count": null,
      "outputs": [
        {
          "output_type": "execute_result",
          "data": {
            "text/plain": [
              "array([4., 5., 1., 7.])"
            ]
          },
          "metadata": {},
          "execution_count": 40
        }
      ]
    },
    {
      "cell_type": "code",
      "source": [
        "A[:,1]"
      ],
      "metadata": {
        "colab": {
          "base_uri": "https://localhost:8080/"
        },
        "id": "M3EF1Bct-Q23",
        "outputId": "cdbad4f8-a2dd-4e1d-f262-00c07013dab1"
      },
      "execution_count": null,
      "outputs": [
        {
          "output_type": "execute_result",
          "data": {
            "text/plain": [
              "array([4., 5., 5., 7., 9.])"
            ]
          },
          "metadata": {},
          "execution_count": 41
        }
      ]
    },
    {
      "cell_type": "code",
      "source": [
        "A"
      ],
      "metadata": {
        "colab": {
          "base_uri": "https://localhost:8080/"
        },
        "id": "MCZ8gDHv-V3-",
        "outputId": "8cd946fa-a6a4-40b0-93cc-c13c427fb073"
      },
      "execution_count": null,
      "outputs": [
        {
          "output_type": "execute_result",
          "data": {
            "text/plain": [
              "array([[ 1.,  4.,  7.,  6.],\n",
              "       [ 4.,  5.,  1.,  7.],\n",
              "       [ 1.,  5.,  6.,  4.],\n",
              "       [10.,  7.,  8.,  1.],\n",
              "       [ 2.,  9.,  3.,  4.]])"
            ]
          },
          "metadata": {},
          "execution_count": 42
        }
      ]
    },
    {
      "cell_type": "code",
      "source": [
        "A[2:4,1:3]"
      ],
      "metadata": {
        "colab": {
          "base_uri": "https://localhost:8080/"
        },
        "id": "g7bE9MQr-YZI",
        "outputId": "fa0c3181-16d3-43e0-bedd-3cfd63ec3c1d"
      },
      "execution_count": null,
      "outputs": [
        {
          "output_type": "execute_result",
          "data": {
            "text/plain": [
              "array([[5., 6.],\n",
              "       [7., 8.]])"
            ]
          },
          "metadata": {},
          "execution_count": 44
        }
      ]
    },
    {
      "cell_type": "code",
      "source": [
        "#transposer\n",
        "A.T"
      ],
      "metadata": {
        "colab": {
          "base_uri": "https://localhost:8080/"
        },
        "id": "BhjA1MY1-nJ3",
        "outputId": "d5f18301-1b9f-4edd-fd00-4ad47e5a84f3"
      },
      "execution_count": null,
      "outputs": [
        {
          "output_type": "execute_result",
          "data": {
            "text/plain": [
              "array([[ 1.,  4.,  1., 10.,  2.],\n",
              "       [ 4.,  5.,  5.,  7.,  9.],\n",
              "       [ 7.,  1.,  6.,  8.,  3.],\n",
              "       [ 6.,  7.,  4.,  1.,  4.]])"
            ]
          },
          "metadata": {},
          "execution_count": 46
        }
      ]
    },
    {
      "cell_type": "code",
      "source": [
        "import numpy.linalg as la\n"
      ],
      "metadata": {
        "id": "WpOze1el-yc2"
      },
      "execution_count": null,
      "outputs": []
    },
    {
      "cell_type": "code",
      "source": [
        "la.inv(np.random.rand(3,3))"
      ],
      "metadata": {
        "colab": {
          "base_uri": "https://localhost:8080/"
        },
        "id": "KYXGWuId_AA3",
        "outputId": "16523a53-f28c-4ad8-d2d1-b1beff7ac703"
      },
      "execution_count": null,
      "outputs": [
        {
          "output_type": "execute_result",
          "data": {
            "text/plain": [
              "array([[-7.54906181,  3.94335275, -1.95335953],\n",
              "       [ 3.43831349, -2.24314017,  2.43744357],\n",
              "       [ 2.0055604 ,  1.36583485, -1.67622854]])"
            ]
          },
          "metadata": {},
          "execution_count": 49
        }
      ]
    },
    {
      "cell_type": "code",
      "source": [
        "A"
      ],
      "metadata": {
        "colab": {
          "base_uri": "https://localhost:8080/"
        },
        "id": "3GF_ErIt_YcJ",
        "outputId": "1e556586-8361-492e-c704-72d73e9677bf"
      },
      "execution_count": null,
      "outputs": [
        {
          "output_type": "execute_result",
          "data": {
            "text/plain": [
              "array([[ 1.,  4.,  7.,  6.],\n",
              "       [ 4.,  5.,  1.,  7.],\n",
              "       [ 1.,  5.,  6.,  4.],\n",
              "       [10.,  7.,  8.,  1.],\n",
              "       [ 2.,  9.,  3.,  4.]])"
            ]
          },
          "metadata": {},
          "execution_count": 50
        }
      ]
    },
    {
      "cell_type": "code",
      "source": [
        "A.sort(axis=0)\n",
        "A"
      ],
      "metadata": {
        "colab": {
          "base_uri": "https://localhost:8080/"
        },
        "id": "QLxCBjWO_a6T",
        "outputId": "e1ed2525-d32f-4a3c-a922-c329f68b3c77"
      },
      "execution_count": null,
      "outputs": [
        {
          "output_type": "execute_result",
          "data": {
            "text/plain": [
              "array([[ 1.,  4.,  1.,  1.],\n",
              "       [ 1.,  5.,  3.,  4.],\n",
              "       [ 2.,  5.,  6.,  4.],\n",
              "       [ 4.,  7.,  7.,  6.],\n",
              "       [10.,  9.,  8.,  7.]])"
            ]
          },
          "metadata": {},
          "execution_count": 52
        }
      ]
    },
    {
      "cell_type": "code",
      "source": [
        "A.sort(axis=1)\n",
        "A"
      ],
      "metadata": {
        "colab": {
          "base_uri": "https://localhost:8080/"
        },
        "id": "iFqT4Van_kPW",
        "outputId": "f5efa49f-4238-4440-d12c-c0b69e96ac3c"
      },
      "execution_count": null,
      "outputs": [
        {
          "output_type": "execute_result",
          "data": {
            "text/plain": [
              "array([[ 1.,  1.,  1.,  4.],\n",
              "       [ 1.,  3.,  4.,  5.],\n",
              "       [ 2.,  4.,  5.,  6.],\n",
              "       [ 4.,  6.,  7.,  7.],\n",
              "       [ 7.,  8.,  9., 10.]])"
            ]
          },
          "metadata": {},
          "execution_count": 53
        }
      ]
    },
    {
      "cell_type": "code",
      "source": [
        "#masking is consider like a copy"
      ],
      "metadata": {
        "id": "W6mT8gDy_9Wh"
      },
      "execution_count": null,
      "outputs": []
    },
    {
      "cell_type": "code",
      "source": [
        "h"
      ],
      "metadata": {
        "colab": {
          "base_uri": "https://localhost:8080/"
        },
        "id": "-5WmB9_FCKC0",
        "outputId": "23c948e7-c623-46ff-f34f-a8239235f30b"
      },
      "execution_count": null,
      "outputs": [
        {
          "output_type": "execute_result",
          "data": {
            "text/plain": [
              "array([ 0,  1,  2,  3,  4,  5,  6,  7,  8,  9, 10, 11, 12, 13, 14, 15, 16,\n",
              "       17, 18, 19, 20, 21, 22, 23, 24, 25, 26, 27, 28, 29, 30, 31, 32, 33,\n",
              "       34, 35, 36, 37, 38, 39, 40, 41, 42, 43, 44, 45, 46, 47, 48, 49, 50,\n",
              "       51, 52, 53, 54, 55, 56, 57, 58, 59, 60, 61, 62, 63, 64, 65, 66, 67,\n",
              "       68, 69, 70, 71, 72, 73, 74, 75, 76, 77, 78, 79, 80, 81, 82, 83, 84,\n",
              "       85, 86, 87, 88, 89, 90, 91, 92, 93, 94, 95, 96, 97, 98, 99])"
            ]
          },
          "metadata": {},
          "execution_count": 56
        }
      ]
    },
    {
      "cell_type": "code",
      "source": [
        "z=h[[1,2,8,44]]\n",
        "z"
      ],
      "metadata": {
        "colab": {
          "base_uri": "https://localhost:8080/"
        },
        "id": "edNYgredCPTr",
        "outputId": "caa24007-af64-4e28-be87-1abd06caf093"
      },
      "execution_count": null,
      "outputs": [
        {
          "output_type": "execute_result",
          "data": {
            "text/plain": [
              "array([ 1,  2,  8, 44])"
            ]
          },
          "metadata": {},
          "execution_count": 57
        }
      ]
    },
    {
      "cell_type": "code",
      "source": [
        "z[0]=5\n",
        "z"
      ],
      "metadata": {
        "colab": {
          "base_uri": "https://localhost:8080/"
        },
        "id": "UiT04pg5CZON",
        "outputId": "a399e204-67de-4353-d879-70ebecb41170"
      },
      "execution_count": null,
      "outputs": [
        {
          "output_type": "execute_result",
          "data": {
            "text/plain": [
              "array([ 5,  2,  8, 44])"
            ]
          },
          "metadata": {},
          "execution_count": 59
        }
      ]
    },
    {
      "cell_type": "code",
      "source": [
        "h"
      ],
      "metadata": {
        "colab": {
          "base_uri": "https://localhost:8080/"
        },
        "id": "o25EpbSWCelE",
        "outputId": "3c828c6a-d138-4056-b4bd-ff7ba39626a4"
      },
      "execution_count": null,
      "outputs": [
        {
          "output_type": "execute_result",
          "data": {
            "text/plain": [
              "array([ 0,  1,  2,  3,  4,  5,  6,  7,  8,  9, 10, 11, 12, 13, 14, 15, 16,\n",
              "       17, 18, 19, 20, 21, 22, 23, 24, 25, 26, 27, 28, 29, 30, 31, 32, 33,\n",
              "       34, 35, 36, 37, 38, 39, 40, 41, 42, 43, 44, 45, 46, 47, 48, 49, 50,\n",
              "       51, 52, 53, 54, 55, 56, 57, 58, 59, 60, 61, 62, 63, 64, 65, 66, 67,\n",
              "       68, 69, 70, 71, 72, 73, 74, 75, 76, 77, 78, 79, 80, 81, 82, 83, 84,\n",
              "       85, 86, 87, 88, 89, 90, 91, 92, 93, 94, 95, 96, 97, 98, 99])"
            ]
          },
          "metadata": {},
          "execution_count": 60
        }
      ]
    },
    {
      "cell_type": "code",
      "source": [
        "z=h[h<40]\n",
        "z"
      ],
      "metadata": {
        "colab": {
          "base_uri": "https://localhost:8080/"
        },
        "id": "NsPU1uUiCmQb",
        "outputId": "11d6ee01-56a1-4d72-a930-7325863db2a7"
      },
      "execution_count": null,
      "outputs": [
        {
          "output_type": "execute_result",
          "data": {
            "text/plain": [
              "array([ 0,  1,  2,  3,  4,  5,  6,  7,  8,  9, 10, 11, 12, 13, 14, 15, 16,\n",
              "       17, 18, 19, 20, 21, 22, 23, 24, 25, 26, 27, 28, 29, 30, 31, 32, 33,\n",
              "       34, 35, 36, 37, 38, 39])"
            ]
          },
          "metadata": {},
          "execution_count": 62
        }
      ]
    },
    {
      "cell_type": "code",
      "source": [
        "z=h[(h<40) & (h>30)]\n",
        "z"
      ],
      "metadata": {
        "colab": {
          "base_uri": "https://localhost:8080/"
        },
        "id": "OzwkTQgICu08",
        "outputId": "18fef73c-b22e-4855-b931-3b1973d9de93"
      },
      "execution_count": null,
      "outputs": [
        {
          "output_type": "execute_result",
          "data": {
            "text/plain": [
              "array([31, 32, 33, 34, 35, 36, 37, 38, 39])"
            ]
          },
          "metadata": {},
          "execution_count": 64
        }
      ]
    },
    {
      "cell_type": "code",
      "source": [
        "# &= for array,and = for single object\n",
        "# aslo\n",
        "#|,or\n",
        "#~,not "
      ],
      "metadata": {
        "id": "y_cR_deNC7QM"
      },
      "execution_count": null,
      "outputs": []
    },
    {
      "cell_type": "code",
      "source": [
        "#broadcasting"
      ],
      "metadata": {
        "id": "9w8I_NF3Gr3q"
      },
      "execution_count": null,
      "outputs": []
    },
    {
      "cell_type": "code",
      "source": [
        "A=np.round(10*np.random.rand(2,3))\n",
        "A"
      ],
      "metadata": {
        "colab": {
          "base_uri": "https://localhost:8080/"
        },
        "id": "NxsytcecGu3z",
        "outputId": "7ecc9c8b-4b19-4d90-df20-f2fdb0d29104"
      },
      "execution_count": null,
      "outputs": [
        {
          "output_type": "execute_result",
          "data": {
            "text/plain": [
              "array([[2., 6., 9.],\n",
              "       [4., 4., 7.]])"
            ]
          },
          "metadata": {},
          "execution_count": 66
        }
      ]
    },
    {
      "cell_type": "code",
      "source": [
        "A+3"
      ],
      "metadata": {
        "colab": {
          "base_uri": "https://localhost:8080/"
        },
        "id": "JEQHigS-G_Aa",
        "outputId": "77a6b123-524b-457f-f00a-8846024ee2ae"
      },
      "execution_count": null,
      "outputs": [
        {
          "output_type": "execute_result",
          "data": {
            "text/plain": [
              "array([[ 5.,  9., 12.],\n",
              "       [ 7.,  7., 10.]])"
            ]
          },
          "metadata": {},
          "execution_count": 67
        }
      ]
    },
    {
      "cell_type": "code",
      "source": [
        "A+(np.arange(2).reshape(2,1))\n"
      ],
      "metadata": {
        "colab": {
          "base_uri": "https://localhost:8080/"
        },
        "id": "v7AgwRxtHBWd",
        "outputId": "a8e65d60-fa66-4e06-cf01-ec4189b4f9f9"
      },
      "execution_count": null,
      "outputs": [
        {
          "output_type": "execute_result",
          "data": {
            "text/plain": [
              "array([[2., 6., 9.],\n",
              "       [5., 5., 8.]])"
            ]
          },
          "metadata": {},
          "execution_count": 70
        }
      ]
    },
    {
      "cell_type": "code",
      "source": [
        "B=np.round(10*np.random.rand(2,2))\n",
        "B"
      ],
      "metadata": {
        "colab": {
          "base_uri": "https://localhost:8080/"
        },
        "id": "gL3X60urHsfj",
        "outputId": "87e60447-b7e3-4e3c-9ef6-03beb0f5b953"
      },
      "execution_count": null,
      "outputs": [
        {
          "output_type": "execute_result",
          "data": {
            "text/plain": [
              "array([[2., 3.],\n",
              "       [5., 7.]])"
            ]
          },
          "metadata": {},
          "execution_count": 72
        }
      ]
    },
    {
      "cell_type": "code",
      "source": [
        "C=np.hstack((A,B))\n",
        "C"
      ],
      "metadata": {
        "colab": {
          "base_uri": "https://localhost:8080/"
        },
        "id": "X63-quDnH0SC",
        "outputId": "0dcd2401-f540-43e4-c623-87a66191e1bd"
      },
      "execution_count": null,
      "outputs": [
        {
          "output_type": "execute_result",
          "data": {
            "text/plain": [
              "array([[2., 6., 9., 2., 3.],\n",
              "       [4., 4., 7., 5., 7.]])"
            ]
          },
          "metadata": {},
          "execution_count": 73
        }
      ]
    },
    {
      "cell_type": "code",
      "source": [
        "B=np.round(10*np.random.rand(2,3))\n",
        "B"
      ],
      "metadata": {
        "colab": {
          "base_uri": "https://localhost:8080/"
        },
        "id": "xWee9_rhIH7A",
        "outputId": "e790eb97-f113-4f84-cb69-ffc5804e8173"
      },
      "execution_count": null,
      "outputs": [
        {
          "output_type": "execute_result",
          "data": {
            "text/plain": [
              "array([[10.,  2.,  9.],\n",
              "       [10.,  6.,  1.]])"
            ]
          },
          "metadata": {},
          "execution_count": 75
        }
      ]
    },
    {
      "cell_type": "code",
      "source": [
        "C=np.vstack((A,B))\n",
        "C"
      ],
      "metadata": {
        "colab": {
          "base_uri": "https://localhost:8080/"
        },
        "id": "IY5IoS-zH8wL",
        "outputId": "62610d6e-07c2-431a-a78f-88726c0a6e1a"
      },
      "execution_count": null,
      "outputs": [
        {
          "output_type": "execute_result",
          "data": {
            "text/plain": [
              "array([[ 2.,  6.,  9.],\n",
              "       [ 4.,  4.,  7.],\n",
              "       [10.,  2.,  9.],\n",
              "       [10.,  6.,  1.]])"
            ]
          },
          "metadata": {},
          "execution_count": 76
        }
      ]
    },
    {
      "cell_type": "code",
      "source": [
        "j=np.random.permutation(np.arange(10))\n",
        "j"
      ],
      "metadata": {
        "colab": {
          "base_uri": "https://localhost:8080/"
        },
        "id": "AICPTZ-AIM7L",
        "outputId": "d954507c-2952-4311-e194-abde3e4a5938"
      },
      "execution_count": null,
      "outputs": [
        {
          "output_type": "execute_result",
          "data": {
            "text/plain": [
              "array([7, 4, 0, 3, 9, 8, 6, 5, 1, 2])"
            ]
          },
          "metadata": {},
          "execution_count": 77
        }
      ]
    },
    {
      "cell_type": "code",
      "source": [
        "np.sort(j)"
      ],
      "metadata": {
        "colab": {
          "base_uri": "https://localhost:8080/"
        },
        "id": "XDuH-nqRIbCZ",
        "outputId": "76ebc63b-1475-4248-8d80-3f18e0ac0449"
      },
      "execution_count": null,
      "outputs": [
        {
          "output_type": "execute_result",
          "data": {
            "text/plain": [
              "array([0, 1, 2, 3, 4, 5, 6, 7, 8, 9])"
            ]
          },
          "metadata": {},
          "execution_count": 78
        }
      ]
    },
    {
      "cell_type": "code",
      "source": [
        "j.sort()\n",
        "j"
      ],
      "metadata": {
        "colab": {
          "base_uri": "https://localhost:8080/"
        },
        "id": "lFW41dgrId9a",
        "outputId": "5f99d336-3baa-46bf-ac27-b154c12c24a0"
      },
      "execution_count": null,
      "outputs": [
        {
          "output_type": "execute_result",
          "data": {
            "text/plain": [
              "array([0, 1, 2, 3, 4, 5, 6, 7, 8, 9])"
            ]
          },
          "metadata": {},
          "execution_count": 80
        }
      ]
    },
    {
      "cell_type": "code",
      "source": [
        "p=np.array([\"jdqsfq\",\"kfbqsdb\",\"hqzegzahe\",\"zeaura\"])\n",
        "np.sort(p)\n"
      ],
      "metadata": {
        "colab": {
          "base_uri": "https://localhost:8080/"
        },
        "id": "N6Pp_5VlIirj",
        "outputId": "8a9886b2-77c2-45ff-f441-2ffb03420ab1"
      },
      "execution_count": null,
      "outputs": [
        {
          "output_type": "execute_result",
          "data": {
            "text/plain": [
              "array(['jdqsfq', 'kfbqsdb', 'hqzegzahe', 'zeaura'], dtype='<U9')"
            ]
          },
          "metadata": {},
          "execution_count": 82
        }
      ]
    },
    {
      "cell_type": "code",
      "source": [
        "#speed of universal function of numpy"
      ],
      "metadata": {
        "id": "HH1X1yitK8fI"
      },
      "execution_count": null,
      "outputs": []
    },
    {
      "cell_type": "code",
      "source": [
        "V=np.random.rand(100000)\n",
        "%timeit sum(V)\n"
      ],
      "metadata": {
        "colab": {
          "base_uri": "https://localhost:8080/"
        },
        "id": "D44S6emrLAYK",
        "outputId": "9054a7c1-c7f0-4f8c-b2e2-5f8cd4101347"
      },
      "execution_count": null,
      "outputs": [
        {
          "output_type": "stream",
          "name": "stdout",
          "text": [
            "100 loops, best of 5: 8.53 ms per loop\n"
          ]
        }
      ]
    },
    {
      "cell_type": "code",
      "source": [
        "%timeit np.sum(V)"
      ],
      "metadata": {
        "colab": {
          "base_uri": "https://localhost:8080/"
        },
        "id": "wIil0zu7Leap",
        "outputId": "2d694357-8ce0-4ce0-9c18-aeebb2e4f142"
      },
      "execution_count": null,
      "outputs": [
        {
          "output_type": "stream",
          "name": "stdout",
          "text": [
            "The slowest run took 39.02 times longer than the fastest. This could mean that an intermediate result is being cached.\n",
            "10000 loops, best of 5: 42.3 µs per loop\n"
          ]
        }
      ]
    },
    {
      "cell_type": "code",
      "source": [
        "def mysum(g):\n",
        "  sum=0;\n",
        "  for x in g:\n",
        "    sum+=x\n",
        "  return sum\n",
        "\n",
        "%timeit mysum(V)"
      ],
      "metadata": {
        "colab": {
          "base_uri": "https://localhost:8080/"
        },
        "id": "xRs5YANALnIo",
        "outputId": "7b33f5fc-4295-4c23-d12d-6551d24735b7"
      },
      "execution_count": null,
      "outputs": [
        {
          "output_type": "stream",
          "name": "stdout",
          "text": [
            "100 loops, best of 5: 11.3 ms per loop\n"
          ]
        }
      ]
    },
    {
      "cell_type": "code",
      "source": [
        "#universal function :mod(%) power(**) substruction(-) ....\n",
        "V=np.arange(100).reshape(5,20)\n",
        "A=V.mean(axis=1)\n",
        "A"
      ],
      "metadata": {
        "colab": {
          "base_uri": "https://localhost:8080/"
        },
        "id": "TlNMH6GZV7aq",
        "outputId": "a34986c8-e336-41fe-d495-bc5c99ab4528"
      },
      "execution_count": 4,
      "outputs": [
        {
          "output_type": "execute_result",
          "data": {
            "text/plain": [
              "array([ 9.5, 29.5, 49.5, 69.5, 89.5])"
            ]
          },
          "metadata": {},
          "execution_count": 4
        }
      ]
    },
    {
      "cell_type": "code",
      "source": [
        "V=np.random.rand(1000).reshape(5,4,2,5,5)\n",
        "z=V.mean(axis=3)\n",
        "V.shape"
      ],
      "metadata": {
        "colab": {
          "base_uri": "https://localhost:8080/"
        },
        "id": "AI_uAQxCYWUV",
        "outputId": "7927dbea-ad68-4a51-d1b9-f1d89b07f4b7"
      },
      "execution_count": 10,
      "outputs": [
        {
          "output_type": "execute_result",
          "data": {
            "text/plain": [
              "(5, 4, 2, 5, 5)"
            ]
          },
          "metadata": {},
          "execution_count": 10
        }
      ]
    },
    {
      "cell_type": "code",
      "source": [
        "z.shape"
      ],
      "metadata": {
        "colab": {
          "base_uri": "https://localhost:8080/"
        },
        "id": "sx4pgHT0Ym7p",
        "outputId": "da5041af-d8d7-4711-f7c3-7cc2bd592499"
      },
      "execution_count": 6,
      "outputs": [
        {
          "output_type": "execute_result",
          "data": {
            "text/plain": [
              "(5, 4, 2, 5)"
            ]
          },
          "metadata": {},
          "execution_count": 6
        }
      ]
    },
    {
      "cell_type": "code",
      "source": [
        "V.sum()"
      ],
      "metadata": {
        "colab": {
          "base_uri": "https://localhost:8080/"
        },
        "id": "UHJdnP7sYpDB",
        "outputId": "f6c2aafa-b82d-486f-9aeb-84a63a5c91d2"
      },
      "execution_count": 12,
      "outputs": [
        {
          "output_type": "execute_result",
          "data": {
            "text/plain": [
              "479.20953358056863"
            ]
          },
          "metadata": {},
          "execution_count": 12
        }
      ]
    },
    {
      "cell_type": "code",
      "source": [
        "V.sum(axis=0).sum(axis=0).sum(axis=0).sum()"
      ],
      "metadata": {
        "colab": {
          "base_uri": "https://localhost:8080/"
        },
        "id": "85ZFy9K1YsRl",
        "outputId": "fe93a05b-a8ff-46df-c596-f6a1b35d354d"
      },
      "execution_count": 11,
      "outputs": [
        {
          "output_type": "execute_result",
          "data": {
            "text/plain": [
              "479.2095335805687"
            ]
          },
          "metadata": {},
          "execution_count": 11
        }
      ]
    },
    {
      "cell_type": "code",
      "source": [
        "# not evrey universal function in np has equivalence for object \n"
      ],
      "metadata": {
        "id": "vI3OOX2nbQ9Y"
      },
      "execution_count": null,
      "outputs": []
    },
    {
      "cell_type": "code",
      "source": [
        "#trigonomic function in np\n",
        "V=np.random.rand(5)\n",
        "np.sin(V)"
      ],
      "metadata": {
        "colab": {
          "base_uri": "https://localhost:8080/"
        },
        "id": "mJxfatfpbjrn",
        "outputId": "5f5325fc-19cf-4b7e-feaa-92dc27e6083c"
      },
      "execution_count": 14,
      "outputs": [
        {
          "output_type": "execute_result",
          "data": {
            "text/plain": [
              "array([0.74937106, 0.81376761, 0.47221569, 0.7366784 , 0.65998517])"
            ]
          },
          "metadata": {},
          "execution_count": 14
        }
      ]
    },
    {
      "cell_type": "code",
      "source": [
        "from numpy.ma.core import greater\n",
        "a=np.random.rand(5)\n",
        "b=np.random.rand(5)\n",
        "r=greater(a,b)\n",
        "r"
      ],
      "metadata": {
        "colab": {
          "base_uri": "https://localhost:8080/"
        },
        "id": "zRs_VOzPeAoF",
        "outputId": "40811860-064c-4810-a6f0-9f2423efa97c"
      },
      "execution_count": 16,
      "outputs": [
        {
          "output_type": "execute_result",
          "data": {
            "text/plain": [
              "masked_array(data=[ True, False,  True, False,  True],\n",
              "             mask=False,\n",
              "       fill_value=True)"
            ]
          },
          "metadata": {},
          "execution_count": 16
        }
      ]
    },
    {
      "cell_type": "code",
      "source": [
        "r=a>b\n",
        "r"
      ],
      "metadata": {
        "colab": {
          "base_uri": "https://localhost:8080/"
        },
        "id": "nHEezauAeOfn",
        "outputId": "17e30944-1d8d-4ab9-c8b9-109b962ff10d"
      },
      "execution_count": 17,
      "outputs": [
        {
          "output_type": "execute_result",
          "data": {
            "text/plain": [
              "array([ True, False,  True, False,  True])"
            ]
          },
          "metadata": {},
          "execution_count": 17
        }
      ]
    },
    {
      "cell_type": "code",
      "source": [
        "r1=~r\n",
        "r1"
      ],
      "metadata": {
        "colab": {
          "base_uri": "https://localhost:8080/"
        },
        "id": "dUVxOQCtefXm",
        "outputId": "9274eed3-8429-409a-ebcd-ea221797a205"
      },
      "execution_count": 18,
      "outputs": [
        {
          "output_type": "execute_result",
          "data": {
            "text/plain": [
              "array([False,  True, False,  True, False])"
            ]
          },
          "metadata": {},
          "execution_count": 18
        }
      ]
    },
    {
      "cell_type": "code",
      "source": [
        "r2=np.logical_not(r)\n",
        "r2"
      ],
      "metadata": {
        "colab": {
          "base_uri": "https://localhost:8080/"
        },
        "id": "BDyhBWbJen8O",
        "outputId": "a1560aac-5788-40c9-dbaf-2678730e847c"
      },
      "execution_count": 20,
      "outputs": [
        {
          "output_type": "execute_result",
          "data": {
            "text/plain": [
              "array([False,  True, False,  True, False])"
            ]
          },
          "metadata": {},
          "execution_count": 20
        }
      ]
    },
    {
      "cell_type": "code",
      "source": [
        "t=np.random.rand(5)\n",
        "t[2]=np.nan\n",
        "t"
      ],
      "metadata": {
        "colab": {
          "base_uri": "https://localhost:8080/"
        },
        "id": "YDhucRJMe1qt",
        "outputId": "d4513bae-c3cf-4bbb-9ffd-60e1d3ed37aa"
      },
      "execution_count": 22,
      "outputs": [
        {
          "output_type": "execute_result",
          "data": {
            "text/plain": [
              "array([0.17966515, 0.83683434,        nan, 0.75628018, 0.1464496 ])"
            ]
          },
          "metadata": {},
          "execution_count": 22
        }
      ]
    },
    {
      "cell_type": "code",
      "source": [
        "t.sum()"
      ],
      "metadata": {
        "colab": {
          "base_uri": "https://localhost:8080/"
        },
        "id": "jpGPjIIyfI0s",
        "outputId": "28222cf0-5a71-4b26-921e-8d7761007c22"
      },
      "execution_count": 26,
      "outputs": [
        {
          "output_type": "execute_result",
          "data": {
            "text/plain": [
              "nan"
            ]
          },
          "metadata": {},
          "execution_count": 26
        }
      ]
    },
    {
      "cell_type": "code",
      "source": [
        "np.nansum(t)"
      ],
      "metadata": {
        "colab": {
          "base_uri": "https://localhost:8080/"
        },
        "id": "VffLjiVNfV4u",
        "outputId": "11236f89-59f7-4fab-ea88-cd4dc0ea5626"
      },
      "execution_count": 25,
      "outputs": [
        {
          "output_type": "execute_result",
          "data": {
            "text/plain": [
              "1.9192292717740087"
            ]
          },
          "metadata": {},
          "execution_count": 25
        }
      ]
    },
    {
      "cell_type": "code",
      "source": [
        "np.isnan(t)"
      ],
      "metadata": {
        "colab": {
          "base_uri": "https://localhost:8080/"
        },
        "id": "FgoXaGXcfh0s",
        "outputId": "64155584-516c-4e8b-adb0-894563034323"
      },
      "execution_count": 27,
      "outputs": [
        {
          "output_type": "execute_result",
          "data": {
            "text/plain": [
              "array([False, False,  True, False, False])"
            ]
          },
          "metadata": {},
          "execution_count": 27
        }
      ]
    },
    {
      "cell_type": "code",
      "source": [
        "t=10*np.random.rand(5)\n",
        "t"
      ],
      "metadata": {
        "colab": {
          "base_uri": "https://localhost:8080/"
        },
        "id": "9RZdYLIUfr3w",
        "outputId": "e0662dde-c474-4c46-bf1b-6e7854f1f3f9"
      },
      "execution_count": 31,
      "outputs": [
        {
          "output_type": "execute_result",
          "data": {
            "text/plain": [
              "array([7.91812454, 0.24419664, 8.54854129, 0.98219478, 4.15306431])"
            ]
          },
          "metadata": {},
          "execution_count": 31
        }
      ]
    },
    {
      "cell_type": "code",
      "source": [
        "np.floor(t)"
      ],
      "metadata": {
        "colab": {
          "base_uri": "https://localhost:8080/"
        },
        "id": "9TtVw9lUftc1",
        "outputId": "ab355e06-ef27-434d-ff36-44920615c996"
      },
      "execution_count": 32,
      "outputs": [
        {
          "output_type": "execute_result",
          "data": {
            "text/plain": [
              "array([7., 0., 8., 0., 4.])"
            ]
          },
          "metadata": {},
          "execution_count": 32
        }
      ]
    },
    {
      "cell_type": "code",
      "source": [
        "np.ceil(t)"
      ],
      "metadata": {
        "colab": {
          "base_uri": "https://localhost:8080/"
        },
        "id": "nClBA9uef31n",
        "outputId": "3974c4be-4f79-483c-925e-cc21b4c15633"
      },
      "execution_count": 33,
      "outputs": [
        {
          "output_type": "execute_result",
          "data": {
            "text/plain": [
              "array([8., 1., 9., 1., 5.])"
            ]
          },
          "metadata": {},
          "execution_count": 33
        }
      ]
    },
    {
      "cell_type": "code",
      "source": [
        "#ouput argument\n",
        "t=np.arange(5)\n",
        "z=np.zeros(5)\n",
        "np.add(t,10,out=z)\n",
        "z"
      ],
      "metadata": {
        "colab": {
          "base_uri": "https://localhost:8080/"
        },
        "id": "9foN78oAgSkk",
        "outputId": "737a900c-faa2-43de-c49f-6f9f688fba72"
      },
      "execution_count": 34,
      "outputs": [
        {
          "output_type": "execute_result",
          "data": {
            "text/plain": [
              "array([10., 11., 12., 13., 14.])"
            ]
          },
          "metadata": {},
          "execution_count": 34
        }
      ]
    },
    {
      "cell_type": "code",
      "source": [
        "t=10*np.random.rand(10).reshape(5,2)\n",
        "t"
      ],
      "metadata": {
        "colab": {
          "base_uri": "https://localhost:8080/"
        },
        "id": "ePxcbA7Jzi8-",
        "outputId": "f805665f-04d4-480d-afc1-3be738a08ecd"
      },
      "execution_count": 35,
      "outputs": [
        {
          "output_type": "execute_result",
          "data": {
            "text/plain": [
              "array([[8.72137865, 4.34866135],\n",
              "       [6.4909119 , 3.06678728],\n",
              "       [6.51087237, 6.8574226 ],\n",
              "       [8.09562033, 5.88727829],\n",
              "       [0.51466391, 9.50736591]])"
            ]
          },
          "metadata": {},
          "execution_count": 35
        }
      ]
    },
    {
      "cell_type": "code",
      "source": [
        "np.sort(t,axis=1)"
      ],
      "metadata": {
        "colab": {
          "base_uri": "https://localhost:8080/"
        },
        "id": "RFFA3qwrzrDf",
        "outputId": "3f8533b8-40c6-470c-cec6-82dae78aed03"
      },
      "execution_count": 37,
      "outputs": [
        {
          "output_type": "execute_result",
          "data": {
            "text/plain": [
              "array([[4.34866135, 8.72137865],\n",
              "       [3.06678728, 6.4909119 ],\n",
              "       [6.51087237, 6.8574226 ],\n",
              "       [5.88727829, 8.09562033],\n",
              "       [0.51466391, 9.50736591]])"
            ]
          },
          "metadata": {},
          "execution_count": 37
        }
      ]
    },
    {
      "cell_type": "code",
      "source": [
        "np.argsort(t,axis=0)"
      ],
      "metadata": {
        "colab": {
          "base_uri": "https://localhost:8080/"
        },
        "id": "LtBL-9NQ0S-2",
        "outputId": "94b8175a-928b-4db2-e8c2-d5425eda41f1"
      },
      "execution_count": 38,
      "outputs": [
        {
          "output_type": "execute_result",
          "data": {
            "text/plain": [
              "array([[4, 1],\n",
              "       [1, 0],\n",
              "       [2, 3],\n",
              "       [3, 2],\n",
              "       [0, 4]])"
            ]
          },
          "metadata": {},
          "execution_count": 38
        }
      ]
    },
    {
      "cell_type": "code",
      "source": [
        "#knn with  np"
      ],
      "metadata": {
        "id": "iGVU_gG067VY"
      },
      "execution_count": null,
      "outputs": []
    },
    {
      "cell_type": "code",
      "source": [
        "from sklearn.datasets import  load_iris\n",
        "iris=load_iris()\n",
        "iris.data.shape"
      ],
      "metadata": {
        "colab": {
          "base_uri": "https://localhost:8080/"
        },
        "id": "bOqh596P0iUA",
        "outputId": "8dd6329e-be4f-4252-f434-fe7e98d28583"
      },
      "execution_count": 43,
      "outputs": [
        {
          "output_type": "execute_result",
          "data": {
            "text/plain": [
              "(150, 4)"
            ]
          },
          "metadata": {},
          "execution_count": 43
        }
      ]
    },
    {
      "cell_type": "code",
      "source": [
        "X=iris.data\n",
        "Y=iris.target\n"
      ],
      "metadata": {
        "id": "HEpjlUzO1Jw3"
      },
      "execution_count": 46,
      "outputs": []
    },
    {
      "cell_type": "code",
      "source": [
        "def splitdata(X,Y,size_split):\n",
        "  idx=np.random.permutation(np.arange(Y.size))\n",
        "  ts=int(np.floor(size_split*Y.size))\n",
        "  testidx=idx[:ts]\n",
        "  trainidx=idx[ts:]\n",
        "  xtrain=X[trainidx,:]\n",
        "  ytrain=Y[trainidx]\n",
        "  xtest=X[testidx,:]\n",
        "  ytest=Y[testidx]\n",
        "  return xtrain,ytrain,xtest,ytest\n"
      ],
      "metadata": {
        "id": "M7JM4DD91YEK"
      },
      "execution_count": 57,
      "outputs": []
    },
    {
      "cell_type": "code",
      "source": [
        "xtrain,ytrain,xtest,ytest=splitdata(X,Y,0.2)"
      ],
      "metadata": {
        "id": "sjeJ-iSE3b84"
      },
      "execution_count": 58,
      "outputs": []
    },
    {
      "cell_type": "code",
      "source": [
        "xtrain.shape"
      ],
      "metadata": {
        "id": "KorDqFng3phs",
        "outputId": "e0469e01-ea84-47d3-a6bb-930879fc35ea",
        "colab": {
          "base_uri": "https://localhost:8080/"
        }
      },
      "execution_count": 59,
      "outputs": [
        {
          "output_type": "execute_result",
          "data": {
            "text/plain": [
              "(120, 4)"
            ]
          },
          "metadata": {},
          "execution_count": 59
        }
      ]
    },
    {
      "cell_type": "code",
      "source": [
        "xtest.shape"
      ],
      "metadata": {
        "id": "CfGc97J04uzD",
        "outputId": "cd1ee790-15ce-43c9-9cf5-fa077e6a0362",
        "colab": {
          "base_uri": "https://localhost:8080/"
        }
      },
      "execution_count": 60,
      "outputs": [
        {
          "output_type": "execute_result",
          "data": {
            "text/plain": [
              "(30, 4)"
            ]
          },
          "metadata": {},
          "execution_count": 60
        }
      ]
    },
    {
      "cell_type": "code",
      "source": [
        "D=np.sum((xtrain[:,np.newaxis,:]-xtest[np.newaxis,:,:])**2,axis=2)"
      ],
      "metadata": {
        "id": "vYYu3rdc3zje"
      },
      "execution_count": 61,
      "outputs": []
    },
    {
      "cell_type": "code",
      "source": [
        "D.shape"
      ],
      "metadata": {
        "id": "JPbdTp394ew-",
        "outputId": "dabcb505-3c34-493c-fac1-6316967fbe3d",
        "colab": {
          "base_uri": "https://localhost:8080/"
        }
      },
      "execution_count": 62,
      "outputs": [
        {
          "output_type": "execute_result",
          "data": {
            "text/plain": [
              "(120, 30)"
            ]
          },
          "metadata": {},
          "execution_count": 62
        }
      ]
    },
    {
      "cell_type": "code",
      "source": [
        "ndix=np.argsort(D,axis=0)\n"
      ],
      "metadata": {
        "id": "hDfmBo9M47kr"
      },
      "execution_count": 64,
      "outputs": []
    },
    {
      "cell_type": "code",
      "source": [
        "idx=ndix[0:10,20]\n",
        "idx"
      ],
      "metadata": {
        "id": "71XW3Ntj5GbL",
        "outputId": "bd9266bc-4fe7-48bf-cd68-51c18580fd4c",
        "colab": {
          "base_uri": "https://localhost:8080/"
        }
      },
      "execution_count": 89,
      "outputs": [
        {
          "output_type": "execute_result",
          "data": {
            "text/plain": [
              "array([ 75,  17,  50,  66, 118,  73,  63,  21,  90,  87])"
            ]
          },
          "metadata": {},
          "execution_count": 89
        }
      ]
    },
    {
      "cell_type": "code",
      "source": [
        "ytrain[idx]"
      ],
      "metadata": {
        "id": "_k13eY5q6R-l",
        "outputId": "b7c62c95-6c16-4489-e605-c202bc322989",
        "colab": {
          "base_uri": "https://localhost:8080/"
        }
      },
      "execution_count": 90,
      "outputs": [
        {
          "output_type": "execute_result",
          "data": {
            "text/plain": [
              "array([2, 2, 2, 2, 2, 2, 2, 2, 2, 2])"
            ]
          },
          "metadata": {},
          "execution_count": 90
        }
      ]
    },
    {
      "cell_type": "code",
      "source": [
        "from scipy import stats\n",
        "stats.mode(ytrain[idx])"
      ],
      "metadata": {
        "id": "N27Yaze-5Wc3",
        "outputId": "f87b1b1c-60a1-4a1f-d035-4ca1269cf237",
        "colab": {
          "base_uri": "https://localhost:8080/"
        }
      },
      "execution_count": 87,
      "outputs": [
        {
          "output_type": "execute_result",
          "data": {
            "text/plain": [
              "ModeResult(mode=array([1]), count=array([5]))"
            ]
          },
          "metadata": {},
          "execution_count": 87
        }
      ]
    },
    {
      "cell_type": "code",
      "source": [
        "ytest[6]"
      ],
      "metadata": {
        "id": "IMRAaYor6EBM",
        "outputId": "1e8b0c7e-543c-4399-ec6f-f1bd3855e8a1",
        "colab": {
          "base_uri": "https://localhost:8080/"
        }
      },
      "execution_count": 88,
      "outputs": [
        {
          "output_type": "execute_result",
          "data": {
            "text/plain": [
              "2"
            ]
          },
          "metadata": {},
          "execution_count": 88
        }
      ]
    }
  ]
}